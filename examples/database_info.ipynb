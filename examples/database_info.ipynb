{
 "cells": [
  {
   "cell_type": "code",
   "execution_count": 1,
   "metadata": {},
   "outputs": [],
   "source": [
    "from grafa.client import GrafaClient"
   ]
  },
  {
   "cell_type": "code",
   "execution_count": 2,
   "metadata": {},
   "outputs": [
    {
     "name": "stderr",
     "output_type": "stream",
     "text": [
      "/data/ExpertAI/grafa/grafa/utils/graph_connection.py:17: LangChainDeprecationWarning: The class `Neo4jGraph` was deprecated in LangChain 0.3.8 and will be removed in 1.0. An updated version of the class exists in the :class:`~langchain-neo4j package and should be used instead. To use it run `pip install -U :class:`~langchain-neo4j` and import as `from :class:`~langchain_neo4j import Neo4jGraph``.\n",
      "  kg = Neo4jGraph(\n"
     ]
    }
   ],
   "source": [
    "client = GrafaClient()\n"
   ]
  },
  {
   "cell_type": "code",
   "execution_count": 3,
   "metadata": {},
   "outputs": [],
   "source": [
    "kg = client.connect_to_database()"
   ]
  },
  {
   "cell_type": "code",
   "execution_count": 4,
   "metadata": {},
   "outputs": [
    {
     "data": {
      "text/plain": [
       "'database:\\n  name: \"Business Concepts\"\\n  description: \"A knowledge graph for business concepts that are useful in a Consumer Packaged Goods company\\'s promotional planning, sales analysis, and pricing strategy\"\\n\\nnode_types:\\n  Person:\\n    description: \"A person\"\\n    fields:\\n      occupation:\\n        type: STRING\\n        description: \"Occupation of the person\"\\n    options:\\n      link_to_chunk: false\\n      embed: false\\n\\n  Company:\\n    description: \"A company\"\\n    fields:\\n      description:\\n        type: STRING\\n        description: \"Description of the company\"\\n    options:\\n      link_to_chunk: false\\n      embed: false\\n\\n  Concept:\\n    description: \"A concept\"\\n    fields:\\n      description:\\n        type: STRING\\n        description: \"Description of the concept\"\\n    options:\\n      link_to_chunk: true\\n      embed: true\\n\\n  Metric:\\n    description: \"A metric\"\\n    fields:\\n      description:\\n        type: STRING\\n        description: \"Description of the metric\"\\n    options:\\n      link_to_chunk: false\\n      embed: false\\n\\n  Formula:\\n    description: \"A formula\"\\n    fields:\\n      formula:\\n        type: STRING\\n        description: \"Mathematical formula\"\\n    options:\\n      link_to_chunk: false\\n      embed: false\\n\\n  Rule:\\n    description: \"A rule\"\\n    fields:\\n      rule_description:\\n        type: STRING\\n        description: \"Description of the rule\"\\n    options:\\n      link_to_chunk: false\\n      embed: false\\n\\n  Condition:\\n    description: \"A condition\"\\n    fields:\\n      condition:\\n        type: STRING\\n        description: \"Condition for the rule flow\"\\n    options:\\n      link_to_chunk: false\\n      embed: false\\n\\n  Example:\\n    description: \"An example\"\\n    fields:\\n      example:\\n        type: STRING\\n        description: \"Example of a concept\"\\n    options:\\n      link_to_chunk: true\\n      embed: true\\n\\nrelationships:\\n  - from: Person\\n    to: Company\\n    type: WORKS_AT\\n    description: \"A person works at a company\"\\n\\n  - from: Company\\n    to: Company\\n    type: IS_RELATED_TO\\n    description: \"A company is related to a company\"\\n\\n  - from: Company\\n    to: Concept\\n    type: IS_RELATED_TO\\n    description: \"A company is related to a concept\"\\n\\n  - from: Concept\\n    to: Concept\\n    type: IS_RELATED_TO\\n    description: \"A concept is related to a concept\"\\n\\n  - from: Concept\\n    to: Metric\\n    type: IS_RELATED_TO\\n    description: \"A concept is related to a metric\"\\n\\n  - from: Metric\\n    to: Formula\\n    type: FORMULA\\n    description: \"A metric is mentioned within a formula\"\\n\\n  - from: Concept\\n    to: Rule\\n    type: USES_RULE\\n    description: \"A concept has a certain rule\"\\n\\n  - from: Rule\\n    to: Condition\\n    type: IS_CONDITIONED\\n    description: \"A rule has a conditional flow, deciding what to do next\"\\n\\n  - from: Concept\\n    to: Example\\n    type: EXAMPLE\\n    description: \"A concept has an example\"'"
      ]
     },
     "execution_count": 4,
     "metadata": {},
     "output_type": "execute_result"
    }
   ],
   "source": [
    "kg.query(\"MATCH (n) WHERE 'GrafaDatabaseMetadata' IN labels(n) return n.yaml\")[0][\"n.yaml\"]"
   ]
  },
  {
   "cell_type": "code",
   "execution_count": 5,
   "metadata": {},
   "outputs": [
    {
     "ename": "ValueError",
     "evalue": "Database already exists",
     "output_type": "error",
     "traceback": [
      "\u001b[0;31m---------------------------------------------------------------------------\u001b[0m",
      "\u001b[0;31mValueError\u001b[0m                                Traceback (most recent call last)",
      "Cell \u001b[0;32mIn[5], line 1\u001b[0m\n\u001b[0;32m----> 1\u001b[0m \u001b[43mclient\u001b[49m\u001b[38;5;241;43m.\u001b[39;49m\u001b[43minitialize_database\u001b[49m\u001b[43m(\u001b[49m\u001b[38;5;124;43m\"\u001b[39;49m\u001b[38;5;124;43m../schema.yaml\u001b[39;49m\u001b[38;5;124;43m\"\u001b[39;49m\u001b[43m)\u001b[49m\n",
      "File \u001b[0;32m/data/ExpertAI/grafa/grafa/client.py:37\u001b[0m, in \u001b[0;36mGrafaClient.initialize_database\u001b[0;34m(self, yaml_path)\u001b[0m\n\u001b[1;32m     35\u001b[0m \u001b[38;5;250m\u001b[39m\u001b[38;5;124;03m\"\"\"Create the database.\"\"\"\u001b[39;00m\n\u001b[1;32m     36\u001b[0m \u001b[38;5;28;01mif\u001b[39;00m \u001b[38;5;28mself\u001b[39m\u001b[38;5;241m.\u001b[39mverify_database_exists():\n\u001b[0;32m---> 37\u001b[0m     \u001b[38;5;28;01mraise\u001b[39;00m \u001b[38;5;167;01mValueError\u001b[39;00m(\u001b[38;5;124m\"\u001b[39m\u001b[38;5;124mDatabase already exists\u001b[39m\u001b[38;5;124m\"\u001b[39m)\n\u001b[1;32m     38\u001b[0m \u001b[38;5;28mself\u001b[39m\u001b[38;5;241m.\u001b[39mdatabase_config \u001b[38;5;241m=\u001b[39m load_definitions(yaml_path\u001b[38;5;241m=\u001b[39myaml_path)\n\u001b[1;32m     39\u001b[0m \u001b[38;5;28mself\u001b[39m\u001b[38;5;241m.\u001b[39mneo4j_db\u001b[38;5;241m.\u001b[39mquery(\u001b[38;5;28mself\u001b[39m\u001b[38;5;241m.\u001b[39mdatabase_config\u001b[38;5;241m.\u001b[39mget_cypher_repr())\n",
      "\u001b[0;31mValueError\u001b[0m: Database already exists"
     ]
    }
   ],
   "source": [
    "client.initialize_database(\"../schema.yaml\")"
   ]
  },
  {
   "cell_type": "code",
   "execution_count": 6,
   "metadata": {},
   "outputs": [],
   "source": [
    "client.load_from_database()"
   ]
  },
  {
   "cell_type": "code",
   "execution_count": 7,
   "metadata": {},
   "outputs": [
    {
     "data": {
      "text/plain": [
       "DatabaseConfig(name='Business Concepts', description=\"A knowledge graph for business concepts that are useful in a Consumer Packaged Goods company's promotional planning, sales analysis, and pricing strategy\", node_types={'Person': <class 'grafa.dynamic_models.Person'>, 'Company': <class 'grafa.dynamic_models.Company'>, 'Concept': <class 'grafa.dynamic_models.Concept'>, 'Metric': <class 'grafa.dynamic_models.Metric'>, 'Formula': <class 'grafa.dynamic_models.Formula'>, 'Rule': <class 'grafa.dynamic_models.Rule'>, 'Condition': <class 'grafa.dynamic_models.Condition'>, 'Example': <class 'grafa.dynamic_models.Example'>}, allowed_relationships=[Relationship(from_type='Person', to_type='Company', relationship_type='WORKS_AT', description='A person works at a company'), Relationship(from_type='Company', to_type='Company', relationship_type='IS_RELATED_TO', description='A company is related to a company'), Relationship(from_type='Company', to_type='Concept', relationship_type='IS_RELATED_TO', description='A company is related to a concept'), Relationship(from_type='Concept', to_type='Concept', relationship_type='IS_RELATED_TO', description='A concept is related to a concept'), Relationship(from_type='Concept', to_type='Metric', relationship_type='IS_RELATED_TO', description='A concept is related to a metric'), Relationship(from_type='Metric', to_type='Formula', relationship_type='FORMULA', description='A metric is mentioned within a formula'), Relationship(from_type='Concept', to_type='Rule', relationship_type='USES_RULE', description='A concept has a certain rule'), Relationship(from_type='Rule', to_type='Condition', relationship_type='IS_CONDITIONED', description='A rule has a conditional flow, deciding what to do next'), Relationship(from_type='Concept', to_type='Example', relationship_type='EXAMPLE', description='A concept has an example')], yaml='database:\\n  name: \"Business Concepts\"\\n  description: \"A knowledge graph for business concepts that are useful in a Consumer Packaged Goods company\\'s promotional planning, sales analysis, and pricing strategy\"\\n\\nnode_types:\\n  Person:\\n    description: \"A person\"\\n    fields:\\n      occupation:\\n        type: STRING\\n        description: \"Occupation of the person\"\\n    options:\\n      link_to_chunk: false\\n      embed: false\\n\\n  Company:\\n    description: \"A company\"\\n    fields:\\n      description:\\n        type: STRING\\n        description: \"Description of the company\"\\n    options:\\n      link_to_chunk: false\\n      embed: false\\n\\n  Concept:\\n    description: \"A concept\"\\n    fields:\\n      description:\\n        type: STRING\\n        description: \"Description of the concept\"\\n    options:\\n      link_to_chunk: true\\n      embed: true\\n\\n  Metric:\\n    description: \"A metric\"\\n    fields:\\n      description:\\n        type: STRING\\n        description: \"Description of the metric\"\\n    options:\\n      link_to_chunk: false\\n      embed: false\\n\\n  Formula:\\n    description: \"A formula\"\\n    fields:\\n      formula:\\n        type: STRING\\n        description: \"Mathematical formula\"\\n    options:\\n      link_to_chunk: false\\n      embed: false\\n\\n  Rule:\\n    description: \"A rule\"\\n    fields:\\n      rule_description:\\n        type: STRING\\n        description: \"Description of the rule\"\\n    options:\\n      link_to_chunk: false\\n      embed: false\\n\\n  Condition:\\n    description: \"A condition\"\\n    fields:\\n      condition:\\n        type: STRING\\n        description: \"Condition for the rule flow\"\\n    options:\\n      link_to_chunk: false\\n      embed: false\\n\\n  Example:\\n    description: \"An example\"\\n    fields:\\n      example:\\n        type: STRING\\n        description: \"Example of a concept\"\\n    options:\\n      link_to_chunk: true\\n      embed: true\\n\\nrelationships:\\n  - from: Person\\n    to: Company\\n    type: WORKS_AT\\n    description: \"A person works at a company\"\\n\\n  - from: Company\\n    to: Company\\n    type: IS_RELATED_TO\\n    description: \"A company is related to a company\"\\n\\n  - from: Company\\n    to: Concept\\n    type: IS_RELATED_TO\\n    description: \"A company is related to a concept\"\\n\\n  - from: Concept\\n    to: Concept\\n    type: IS_RELATED_TO\\n    description: \"A concept is related to a concept\"\\n\\n  - from: Concept\\n    to: Metric\\n    type: IS_RELATED_TO\\n    description: \"A concept is related to a metric\"\\n\\n  - from: Metric\\n    to: Formula\\n    type: FORMULA\\n    description: \"A metric is mentioned within a formula\"\\n\\n  - from: Concept\\n    to: Rule\\n    type: USES_RULE\\n    description: \"A concept has a certain rule\"\\n\\n  - from: Rule\\n    to: Condition\\n    type: IS_CONDITIONED\\n    description: \"A rule has a conditional flow, deciding what to do next\"\\n\\n  - from: Concept\\n    to: Example\\n    type: EXAMPLE\\n    description: \"A concept has an example\"')"
      ]
     },
     "execution_count": 7,
     "metadata": {},
     "output_type": "execute_result"
    }
   ],
   "source": [
    "client.database_config"
   ]
  },
  {
   "cell_type": "code",
   "execution_count": 5,
   "metadata": {},
   "outputs": [
    {
     "name": "stdout",
     "output_type": "stream",
     "text": [
      "name='Business Concepts' description=\"A knowledge graph for business concepts that are useful in a Consumer Packaged Goods company's promotional planning, sales analysis, and pricing strategy\" node_types={'Person': <class 'grafa.dynamic_models.Person'>, 'Company': <class 'grafa.dynamic_models.Company'>, 'Concept': <class 'grafa.dynamic_models.Concept'>, 'Metric': <class 'grafa.dynamic_models.Metric'>, 'Formula': <class 'grafa.dynamic_models.Formula'>, 'Rule': <class 'grafa.dynamic_models.Rule'>, 'Condition': <class 'grafa.dynamic_models.Condition'>, 'Example': <class 'grafa.dynamic_models.Example'>} allowed_relationships=[Relationship(from_type='Person', to_type='Company', relationship_type='WORKS_AT', description='A person works at a company'), Relationship(from_type='Company', to_type='Company', relationship_type='IS_RELATED_TO', description='A company is related to a company'), Relationship(from_type='Company', to_type='Concept', relationship_type='IS_RELATED_TO', description='A company is related to a concept'), Relationship(from_type='Concept', to_type='Concept', relationship_type='IS_RELATED_TO', description='A concept is related to a concept'), Relationship(from_type='Concept', to_type='Metric', relationship_type='IS_RELATED_TO', description='A concept is related to a metric'), Relationship(from_type='Metric', to_type='Formula', relationship_type='FORMULA', description='A metric is mentioned within a formula'), Relationship(from_type='Concept', to_type='Rule', relationship_type='USES_RULE', description='A concept has a certain rule'), Relationship(from_type='Rule', to_type='Condition', relationship_type='IS_CONDITIONED', description='A rule has a conditional flow, deciding what to do next'), Relationship(from_type='Concept', to_type='Example', relationship_type='EXAMPLE', description='A concept has an example')] yaml='database:\\n  name: \"Business Concepts\"\\n  description: \"A knowledge graph for business concepts that are useful in a Consumer Packaged Goods company\\'s promotional planning, sales analysis, and pricing strategy\"\\n\\nnode_types:\\n  Person:\\n    description: \"A person\"\\n    fields:\\n      occupation:\\n        type: STRING\\n        description: \"Occupation of the person\"\\n    options:\\n      link_to_chunk: false\\n      embed: false\\n\\n  Company:\\n    description: \"A company\"\\n    fields:\\n      description:\\n        type: STRING\\n        description: \"Description of the company\"\\n    options:\\n      link_to_chunk: false\\n      embed: false\\n\\n  Concept:\\n    description: \"A concept\"\\n    fields:\\n      description:\\n        type: STRING\\n        description: \"Description of the concept\"\\n    options:\\n      link_to_chunk: true\\n      embed: true\\n\\n  Metric:\\n    description: \"A metric\"\\n    fields:\\n      description:\\n        type: STRING\\n        description: \"Description of the metric\"\\n    options:\\n      link_to_chunk: false\\n      embed: false\\n\\n  Formula:\\n    description: \"A formula\"\\n    fields:\\n      formula:\\n        type: STRING\\n        description: \"Mathematical formula\"\\n    options:\\n      link_to_chunk: false\\n      embed: false\\n\\n  Rule:\\n    description: \"A rule\"\\n    fields:\\n      rule_description:\\n        type: STRING\\n        description: \"Description of the rule\"\\n    options:\\n      link_to_chunk: false\\n      embed: false\\n\\n  Condition:\\n    description: \"A condition\"\\n    fields:\\n      condition:\\n        type: STRING\\n        description: \"Condition for the rule flow\"\\n    options:\\n      link_to_chunk: false\\n      embed: false\\n\\n  Example:\\n    description: \"An example\"\\n    fields:\\n      example:\\n        type: STRING\\n        description: \"Example of a concept\"\\n    options:\\n      link_to_chunk: true\\n      embed: true\\n\\nrelationships:\\n  - from: Person\\n    to: Company\\n    type: WORKS_AT\\n    description: \"A person works at a company\"\\n\\n  - from: Company\\n    to: Company\\n    type: IS_RELATED_TO\\n    description: \"A company is related to a company\"\\n\\n  - from: Company\\n    to: Concept\\n    type: IS_RELATED_TO\\n    description: \"A company is related to a concept\"\\n\\n  - from: Concept\\n    to: Concept\\n    type: IS_RELATED_TO\\n    description: \"A concept is related to a concept\"\\n\\n  - from: Concept\\n    to: Metric\\n    type: IS_RELATED_TO\\n    description: \"A concept is related to a metric\"\\n\\n  - from: Metric\\n    to: Formula\\n    type: FORMULA\\n    description: \"A metric is mentioned within a formula\"\\n\\n  - from: Concept\\n    to: Rule\\n    type: USES_RULE\\n    description: \"A concept has a certain rule\"\\n\\n  - from: Rule\\n    to: Condition\\n    type: IS_CONDITIONED\\n    description: \"A rule has a conditional flow, deciding what to do next\"\\n\\n  - from: Concept\\n    to: Example\\n    type: EXAMPLE\\n    description: \"A concept has an example\"'\n"
     ]
    }
   ],
   "source": [
    "from grafa.dynamic_models import load_definitions\n",
    "\n",
    "db_definition = load_definitions(\"../schema.yaml\")\n",
    "\n",
    "print(db_definition)"
   ]
  },
  {
   "cell_type": "code",
   "execution_count": 6,
   "metadata": {},
   "outputs": [
    {
     "name": "stdout",
     "output_type": "stream",
     "text": [
      "Create(n:GrafaDatabaseMetadata\n",
      "            {\n",
      "                name: \"Business Concepts\",\n",
      "                description: \"A knowledge graph for business concepts that are useful in a Consumer Packaged Goods company's promotional planning, sales analysis, and pricing strategy\",\n",
      "                yaml: \"database:\\n  name: \\\"Business Concepts\\\"\\n  description: \\\"A knowledge graph for business concepts that are useful in a Consumer Packaged Goods company's promotional planning, sales analysis, and pricing strategy\\\"\\n\\nnode_types:\\n  Person:\\n    description: \\\"A person\\\"\\n    fields:\\n      occupation:\\n        type: STRING\\n        description: \\\"Occupation of the person\\\"\\n    options:\\n      link_to_chunk: false\\n      embed: false\\n\\n  Company:\\n    description: \\\"A company\\\"\\n    fields:\\n      description:\\n        type: STRING\\n        description: \\\"Description of the company\\\"\\n    options:\\n      link_to_chunk: false\\n      embed: false\\n\\n  Concept:\\n    description: \\\"A concept\\\"\\n    fields:\\n      description:\\n        type: STRING\\n        description: \\\"Description of the concept\\\"\\n    options:\\n      link_to_chunk: true\\n      embed: true\\n\\n  Metric:\\n    description: \\\"A metric\\\"\\n    fields:\\n      description:\\n        type: STRING\\n        description: \\\"Description of the metric\\\"\\n    options:\\n      link_to_chunk: false\\n      embed: false\\n\\n  Formula:\\n    description: \\\"A formula\\\"\\n    fields:\\n      formula:\\n        type: STRING\\n        description: \\\"Mathematical formula\\\"\\n    options:\\n      link_to_chunk: false\\n      embed: false\\n\\n  Rule:\\n    description: \\\"A rule\\\"\\n    fields:\\n      rule_description:\\n        type: STRING\\n        description: \\\"Description of the rule\\\"\\n    options:\\n      link_to_chunk: false\\n      embed: false\\n\\n  Condition:\\n    description: \\\"A condition\\\"\\n    fields:\\n      condition:\\n        type: STRING\\n        description: \\\"Condition for the rule flow\\\"\\n    options:\\n      link_to_chunk: false\\n      embed: false\\n\\n  Example:\\n    description: \\\"An example\\\"\\n    fields:\\n      example:\\n        type: STRING\\n        description: \\\"Example of a concept\\\"\\n    options:\\n      link_to_chunk: true\\n      embed: true\\n\\nrelationships:\\n  - from: Person\\n    to: Company\\n    type: WORKS_AT\\n    description: \\\"A person works at a company\\\"\\n\\n  - from: Company\\n    to: Company\\n    type: IS_RELATED_TO\\n    description: \\\"A company is related to a company\\\"\\n\\n  - from: Company\\n    to: Concept\\n    type: IS_RELATED_TO\\n    description: \\\"A company is related to a concept\\\"\\n\\n  - from: Concept\\n    to: Concept\\n    type: IS_RELATED_TO\\n    description: \\\"A concept is related to a concept\\\"\\n\\n  - from: Concept\\n    to: Metric\\n    type: IS_RELATED_TO\\n    description: \\\"A concept is related to a metric\\\"\\n\\n  - from: Metric\\n    to: Formula\\n    type: FORMULA\\n    description: \\\"A metric is mentioned within a formula\\\"\\n\\n  - from: Concept\\n    to: Rule\\n    type: USES_RULE\\n    description: \\\"A concept has a certain rule\\\"\\n\\n  - from: Rule\\n    to: Condition\\n    type: IS_CONDITIONED\\n    description: \\\"A rule has a conditional flow, deciding what to do next\\\"\\n\\n  - from: Concept\\n    to: Example\\n    type: EXAMPLE\\n    description: \\\"A concept has an example\\\"\"\n",
      "            }\n",
      "        )\n"
     ]
    }
   ],
   "source": [
    "print(db_definition.get_cypher_repr())"
   ]
  },
  {
   "cell_type": "code",
   "execution_count": 7,
   "metadata": {},
   "outputs": [
    {
     "data": {
      "text/plain": [
       "'Business Concepts'"
      ]
     },
     "execution_count": 7,
     "metadata": {},
     "output_type": "execute_result"
    }
   ],
   "source": [
    "db_definition.name"
   ]
  },
  {
   "cell_type": "code",
   "execution_count": 3,
   "metadata": {},
   "outputs": [
    {
     "data": {
      "text/plain": [
       "\"A knowledge graph for business concepts that are useful in a Consumer Packaged Goods company's promotional planning, sales analysis, and pricing strategy\""
      ]
     },
     "execution_count": 3,
     "metadata": {},
     "output_type": "execute_result"
    }
   ],
   "source": [
    "db_definition.description\n"
   ]
  },
  {
   "cell_type": "code",
   "execution_count": 4,
   "metadata": {},
   "outputs": [
    {
     "data": {
      "text/plain": [
       "grafa.dynamic_models.Person"
      ]
     },
     "execution_count": 4,
     "metadata": {},
     "output_type": "execute_result"
    }
   ],
   "source": [
    "db_definition.node_types[\"Person\"]"
   ]
  },
  {
   "cell_type": "code",
   "execution_count": 5,
   "metadata": {},
   "outputs": [],
   "source": [
    "db_definition_2 = load_definitions(\"../schema.yaml\")"
   ]
  },
  {
   "cell_type": "code",
   "execution_count": 6,
   "metadata": {},
   "outputs": [
    {
     "data": {
      "text/plain": [
       "grafa.dynamic_models.Person"
      ]
     },
     "execution_count": 6,
     "metadata": {},
     "output_type": "execute_result"
    }
   ],
   "source": [
    "db_definition_2.node_types[\"Person\"]\n"
   ]
  },
  {
   "cell_type": "code",
   "execution_count": 7,
   "metadata": {},
   "outputs": [
    {
     "name": "stdout",
     "output_type": "stream",
     "text": [
      "False\n"
     ]
    }
   ],
   "source": [
    "print(db_definition.node_types[\"Person\"] is db_definition_2.node_types[\"Person\"])\n"
   ]
  },
  {
   "cell_type": "code",
   "execution_count": 8,
   "metadata": {},
   "outputs": [],
   "source": [
    "c = db_definition.node_types[\"Person\"]\n"
   ]
  },
  {
   "cell_type": "code",
   "execution_count": null,
   "metadata": {},
   "outputs": [
    {
     "data": {
      "text/plain": [
       "grafa.dynamic_models.Person"
      ]
     },
     "metadata": {},
     "output_type": "display_data"
    }
   ],
   "source": [
    "db_definition.node_types[\"Person\"]"
   ]
  },
  {
   "cell_type": "code",
   "execution_count": 9,
   "metadata": {},
   "outputs": [
    {
     "name": "stdout",
     "output_type": "stream",
     "text": [
      "\u001b[0;31mInit signature:\u001b[0m\n",
      "\u001b[0mc\u001b[0m\u001b[0;34m(\u001b[0m\u001b[0;34m\u001b[0m\n",
      "\u001b[0;34m\u001b[0m    \u001b[0;34m*\u001b[0m\u001b[0;34m,\u001b[0m\u001b[0;34m\u001b[0m\n",
      "\u001b[0;34m\u001b[0m    \u001b[0muuid\u001b[0m\u001b[0;34m:\u001b[0m \u001b[0mstr\u001b[0m \u001b[0;34m=\u001b[0m \u001b[0;32mNone\u001b[0m\u001b[0;34m,\u001b[0m\u001b[0;34m\u001b[0m\n",
      "\u001b[0;34m\u001b[0m    \u001b[0mname\u001b[0m\u001b[0;34m:\u001b[0m \u001b[0mstr\u001b[0m\u001b[0;34m,\u001b[0m\u001b[0;34m\u001b[0m\n",
      "\u001b[0;34m\u001b[0m    \u001b[0msynonyms\u001b[0m\u001b[0;34m:\u001b[0m \u001b[0mlist\u001b[0m\u001b[0;34m[\u001b[0m\u001b[0mstr\u001b[0m\u001b[0;34m]\u001b[0m \u001b[0;34m=\u001b[0m \u001b[0;32mNone\u001b[0m\u001b[0;34m,\u001b[0m\u001b[0;34m\u001b[0m\n",
      "\u001b[0;34m\u001b[0m    \u001b[0mversion\u001b[0m\u001b[0;34m:\u001b[0m \u001b[0mint\u001b[0m \u001b[0;34m=\u001b[0m \u001b[0;36m1\u001b[0m\u001b[0;34m,\u001b[0m\u001b[0;34m\u001b[0m\n",
      "\u001b[0;34m\u001b[0m    \u001b[0mcreate_date\u001b[0m\u001b[0;34m:\u001b[0m \u001b[0mstr\u001b[0m \u001b[0;34m=\u001b[0m \u001b[0;32mNone\u001b[0m\u001b[0;34m,\u001b[0m\u001b[0;34m\u001b[0m\n",
      "\u001b[0;34m\u001b[0m    \u001b[0mupdate_date\u001b[0m\u001b[0;34m:\u001b[0m \u001b[0mstr\u001b[0m \u001b[0;34m=\u001b[0m \u001b[0;32mNone\u001b[0m\u001b[0;34m,\u001b[0m\u001b[0;34m\u001b[0m\n",
      "\u001b[0;34m\u001b[0m    \u001b[0mcolor\u001b[0m\u001b[0;34m:\u001b[0m \u001b[0mstr\u001b[0m \u001b[0;34m=\u001b[0m \u001b[0;34m'#c31125'\u001b[0m\u001b[0;34m,\u001b[0m\u001b[0;34m\u001b[0m\n",
      "\u001b[0;34m\u001b[0m    \u001b[0moccupation\u001b[0m\u001b[0;34m:\u001b[0m \u001b[0mstr\u001b[0m\u001b[0;34m,\u001b[0m\u001b[0;34m\u001b[0m\n",
      "\u001b[0;34m\u001b[0m\u001b[0;34m)\u001b[0m \u001b[0;34m->\u001b[0m \u001b[0;32mNone\u001b[0m\u001b[0;34m\u001b[0m\u001b[0;34m\u001b[0m\u001b[0m\n",
      "\u001b[0;31mDocstring:\u001b[0m      A person\n",
      "\u001b[0;31mInit docstring:\u001b[0m\n",
      "Create a new model by parsing and validating input data from keyword arguments.\n",
      "\n",
      "Raises [`ValidationError`][pydantic_core.ValidationError] if the input data cannot be\n",
      "validated to form a valid model.\n",
      "\n",
      "`self` is explicitly positional-only to allow `self` as a field name.\n",
      "\u001b[0;31mFile:\u001b[0m           /data/ExpertAI/grafa/grafa/dynamic_models.py\n",
      "\u001b[0;31mType:\u001b[0m           ModelMetaclass\n",
      "\u001b[0;31mSubclasses:\u001b[0m     "
     ]
    }
   ],
   "source": [
    "c?"
   ]
  },
  {
   "cell_type": "code",
   "execution_count": 13,
   "metadata": {},
   "outputs": [
    {
     "data": {
      "text/plain": [
       "{'metadata_attributes': {'color',\n",
       "  'create_date',\n",
       "  'model_config',\n",
       "  'update_date',\n",
       "  'uuid',\n",
       "  'version'},\n",
       " 'reserved_fields': {'create_date',\n",
       "  'model_config',\n",
       "  'update_date',\n",
       "  'uuid',\n",
       "  'version'},\n",
       " 'embed': False,\n",
       " 'link_to_chunk': False}"
      ]
     },
     "execution_count": 13,
     "metadata": {},
     "output_type": "execute_result"
    }
   ],
   "source": [
    "c.model_config"
   ]
  },
  {
   "cell_type": "code",
   "execution_count": 14,
   "metadata": {},
   "outputs": [
    {
     "ename": "ValidationError",
     "evalue": "1 validation error for Person\ncolor\n  Field required [type=missing, input_value={'name': 'John', 'age': 3...ccupation': 'developer'}, input_type=dict]\n    For further information visit https://errors.pydantic.dev/2.7/v/missing",
     "output_type": "error",
     "traceback": [
      "\u001b[0;31m---------------------------------------------------------------------------\u001b[0m",
      "\u001b[0;31mValidationError\u001b[0m                           Traceback (most recent call last)",
      "Cell \u001b[0;32mIn[14], line 1\u001b[0m\n\u001b[0;32m----> 1\u001b[0m a \u001b[38;5;241m=\u001b[39m \u001b[43mc\u001b[49m\u001b[43m(\u001b[49m\u001b[43mname\u001b[49m\u001b[38;5;241;43m=\u001b[39;49m\u001b[38;5;124;43m\"\u001b[39;49m\u001b[38;5;124;43mJohn\u001b[39;49m\u001b[38;5;124;43m\"\u001b[39;49m\u001b[43m,\u001b[49m\u001b[43m \u001b[49m\u001b[43mage\u001b[49m\u001b[38;5;241;43m=\u001b[39;49m\u001b[38;5;241;43m30\u001b[39;49m\u001b[43m,\u001b[49m\u001b[43m \u001b[49m\u001b[43mnode_color\u001b[49m\u001b[38;5;241;43m=\u001b[39;49m\u001b[38;5;124;43m\"\u001b[39;49m\u001b[38;5;124;43mblue\u001b[39;49m\u001b[38;5;124;43m\"\u001b[39;49m\u001b[43m,\u001b[49m\u001b[43m \u001b[49m\u001b[43moccupation\u001b[49m\u001b[38;5;241;43m=\u001b[39;49m\u001b[38;5;124;43m\"\u001b[39;49m\u001b[38;5;124;43mdeveloper\u001b[39;49m\u001b[38;5;124;43m\"\u001b[39;49m\u001b[43m)\u001b[49m\n",
      "File \u001b[0;32m/opt/.expertai/lib/python3.11/site-packages/pydantic/main.py:176\u001b[0m, in \u001b[0;36mBaseModel.__init__\u001b[0;34m(self, **data)\u001b[0m\n\u001b[1;32m    174\u001b[0m \u001b[38;5;66;03m# `__tracebackhide__` tells pytest and some other tools to omit this function from tracebacks\u001b[39;00m\n\u001b[1;32m    175\u001b[0m __tracebackhide__ \u001b[38;5;241m=\u001b[39m \u001b[38;5;28;01mTrue\u001b[39;00m\n\u001b[0;32m--> 176\u001b[0m \u001b[38;5;28;43mself\u001b[39;49m\u001b[38;5;241;43m.\u001b[39;49m\u001b[43m__pydantic_validator__\u001b[49m\u001b[38;5;241;43m.\u001b[39;49m\u001b[43mvalidate_python\u001b[49m\u001b[43m(\u001b[49m\u001b[43mdata\u001b[49m\u001b[43m,\u001b[49m\u001b[43m \u001b[49m\u001b[43mself_instance\u001b[49m\u001b[38;5;241;43m=\u001b[39;49m\u001b[38;5;28;43mself\u001b[39;49m\u001b[43m)\u001b[49m\n",
      "\u001b[0;31mValidationError\u001b[0m: 1 validation error for Person\ncolor\n  Field required [type=missing, input_value={'name': 'John', 'age': 3...ccupation': 'developer'}, input_type=dict]\n    For further information visit https://errors.pydantic.dev/2.7/v/missing"
     ]
    }
   ],
   "source": [
    "a = c(name=\"John\", age=30, node_color=\"blue\", occupation=\"developer\")"
   ]
  },
  {
   "cell_type": "code",
   "execution_count": 10,
   "metadata": {},
   "outputs": [
    {
     "data": {
      "text/plain": [
       "Person(uuid='067701fd-7bc6-7101-8000-35ba1e6bac24', name='John', synonyms=[], version=1, create_date='2024-12-28-15-57-11-735971', update_date='2024-12-28-15-57-11-736011', node_color='blue', occupation='developer')"
      ]
     },
     "execution_count": 10,
     "metadata": {},
     "output_type": "execute_result"
    }
   ],
   "source": [
    "a"
   ]
  },
  {
   "cell_type": "code",
   "execution_count": 11,
   "metadata": {},
   "outputs": [
    {
     "data": {
      "text/plain": [
       "\"Person({'name': 'John', 'synonyms': [], 'occupation': 'developer'})\""
      ]
     },
     "execution_count": 11,
     "metadata": {},
     "output_type": "execute_result"
    }
   ],
   "source": [
    "str(a)"
   ]
  },
  {
   "cell_type": "code",
   "execution_count": 10,
   "metadata": {},
   "outputs": [
    {
     "data": {
      "text/plain": [
       "False"
      ]
     },
     "execution_count": 10,
     "metadata": {},
     "output_type": "execute_result"
    }
   ],
   "source": [
    "a._link_to_chunk"
   ]
  },
  {
   "cell_type": "code",
   "execution_count": 11,
   "metadata": {},
   "outputs": [
    {
     "data": {
      "text/plain": [
       "[Relationship(from_type='Person', to_type='Company', relationship_type='WORKS_AT', description='A person works at a company'),\n",
       " Relationship(from_type='Company', to_type='Company', relationship_type='IS_RELATED_TO', description='A company is related to a company'),\n",
       " Relationship(from_type='Company', to_type='Concept', relationship_type='IS_RELATED_TO', description='A company is related to a concept'),\n",
       " Relationship(from_type='Concept', to_type='Concept', relationship_type='IS_RELATED_TO', description='A concept is related to a concept'),\n",
       " Relationship(from_type='Concept', to_type='Metric', relationship_type='IS_RELATED_TO', description='A concept is related to a metric'),\n",
       " Relationship(from_type='Metric', to_type='Formula', relationship_type='FORMULA', description='A metric is mentioned within a formula'),\n",
       " Relationship(from_type='Concept', to_type='Rule', relationship_type='USES_RULE', description='A concept has a certain rule'),\n",
       " Relationship(from_type='Rule', to_type='Condition', relationship_type='IS_CONDITIONED', description='A rule has a conditional flow, deciding what to do next'),\n",
       " Relationship(from_type='Concept', to_type='Example', relationship_type='EXAMPLE', description='A concept has an example')]"
      ]
     },
     "execution_count": 11,
     "metadata": {},
     "output_type": "execute_result"
    }
   ],
   "source": [
    "db_definition.allowed_relationships"
   ]
  },
  {
   "cell_type": "code",
   "execution_count": 1,
   "metadata": {},
   "outputs": [],
   "source": [
    "from langfuse.decorators import langfuse_context"
   ]
  },
  {
   "cell_type": "code",
   "execution_count": 3,
   "metadata": {},
   "outputs": [
    {
     "name": "stderr",
     "output_type": "stream",
     "text": [
      "No trace found in the current context\n",
      "Failed to get current trace URL: No trace found in the current context\n"
     ]
    }
   ],
   "source": [
    "# Generation id, how to do it?\n",
    "# This is the trace id\n",
    "a = langfuse_context.get_current_trace_url()"
   ]
  },
  {
   "cell_type": "code",
   "execution_count": 5,
   "metadata": {},
   "outputs": [
    {
     "name": "stderr",
     "output_type": "stream",
     "text": [
      "No trace found in the current context\n"
     ]
    }
   ],
   "source": []
  },
  {
   "cell_type": "code",
   "execution_count": null,
   "metadata": {},
   "outputs": [],
   "source": []
  }
 ],
 "metadata": {
  "kernelspec": {
   "display_name": ".expertai",
   "language": "python",
   "name": "python3"
  },
  "language_info": {
   "codemirror_mode": {
    "name": "ipython",
    "version": 3
   },
   "file_extension": ".py",
   "mimetype": "text/x-python",
   "name": "python",
   "nbconvert_exporter": "python",
   "pygments_lexer": "ipython3",
   "version": "3.11.8"
  }
 },
 "nbformat": 4,
 "nbformat_minor": 2
}
