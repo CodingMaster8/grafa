{
 "cells": [
  {
   "cell_type": "markdown",
   "metadata": {},
   "source": [
    "## Chunking"
   ]
  },
  {
   "cell_type": "code",
   "execution_count": null,
   "metadata": {},
   "outputs": [],
   "source": [
    "#Arreglar edge cases con heuristica\n",
    "#Intentar hacer division por saltos de linea antes del regex (Max n. caract por linea) (min y max lineas por chunk)\n",
    "#Verificar max y min numero de lineas por chunk \n",
    "#Buscar que las oraciones que se hagan embeddings tengan long. quasi-homogenea\n",
    "#Fine tune sliding window ?\n",
    "# Heuristica para definir metodo de thresholding a partir de num. lineas del documento -> modo automatico"
   ]
  },
  {
   "cell_type": "code",
   "execution_count": 1,
   "metadata": {},
   "outputs": [],
   "source": [
    "import sys\n",
    "import os\n",
    "sys.path.append('/data/grafa/')"
   ]
  },
  {
   "cell_type": "code",
   "execution_count": 2,
   "metadata": {},
   "outputs": [],
   "source": [
    "import re\n",
    "from grafa.stage_retrieval import get_document, get_document_lines\n",
    "from grafa.stage_chunking import grafa_chunking, agentic_chunking"
   ]
  },
  {
   "cell_type": "code",
   "execution_count": 3,
   "metadata": {},
   "outputs": [],
   "source": [
    "document = get_document('test')"
   ]
  },
  {
   "cell_type": "code",
   "execution_count": 25,
   "metadata": {},
   "outputs": [
    {
     "name": "stdout",
     "output_type": "stream",
     "text": [
      "23\n"
     ]
    }
   ],
   "source": [
    "# Uso de la función\n",
    "file_path = \"test\"  # Reemplazar con la ruta real del archivo\n",
    "max_chars_per_line = 200\n",
    "min_chars_per_line = 100\n",
    "min_lines_per_chunk = 5\n",
    "max_lines_per_chunk = 10\n",
    "\n",
    "chunks = grafa_chunking(file_path, max_chars_per_line, min_chars_per_line, min_lines_per_chunk, max_lines_per_chunk)"
   ]
  },
  {
   "cell_type": "code",
   "execution_count": 4,
   "metadata": {},
   "outputs": [
    {
     "data": {
      "text/plain": [
       "3"
      ]
     },
     "execution_count": 4,
     "metadata": {},
     "output_type": "execute_result"
    }
   ],
   "source": [
    "len(chunks)"
   ]
  },
  {
   "cell_type": "code",
   "execution_count": 26,
   "metadata": {},
   "outputs": [
    {
     "name": "stdout",
     "output_type": "stream",
     "text": [
      "Intro to Chunking for RAG Chunking involves splitting a document into smaller pieces—or chunks—that can be embedded and stored as vectors. These vectors are later retrieved by the Retrieval Augmented Generation (RAG) system to provide context when responding to user queries.  There are several different chunking strategies:  Fixed-size chunking Recursive chunking Document-specific chunking Semantic chunking Agentic chunking But not all chunking is created equal. A common yet simplistic approach is to chunk documents based on arbitrary size—splitting text after a certain number of tokens (characters or words). While straightforward, this method can result in chunks that cut off important context, such as splitting a sentence or paragraph mid-thought. This leads to RAG systems generating responses based on fragmented or incomplete information. That’s where the semantic chunking method comes into play. We have already written in more detail about what chunking documents for RAG is and how to do it, so in this article, we will dive deeper into the semantic chunking strategy.  So, What Exactly Is Semantic Chunking? Semantic chunking, sometimes called intelligent chunking, focuses on preserving the document's meaning and structure. Instead of using a fixed chunk size, it strategically divides the document at meaningful breakpoints—like paragraphs, sentences, or thematically linked sections. This ensures that each chunk maintains a semantically coherent idea, making it far more useful when a RAG model uses it to generate responses or retrieve relevant information. By embedding entire concepts instead of fragments, semantic chunking strengthens the context a RAG system uses, resulting in more precise and coherent outputs.  Using the Right Tools Tools like Unstructured AI offer a powerful way to perform semantic chunking by converting unstructured documents into coherent chunks ready for RAG systems. These tools can also handle non-textual elements, ensuring that every part of a document is accounted for during chunking and embedding. Additionally, platforms like Pinecone provide storage and retrieval capabilities that integrate seamlessly with semantic chunking methods.  Other tools for semantic chunking include:  ...LangGraph.  LangChain. Azure AI Document Intelligence. LlamaIndex. Semantic Text Splitter libraries Hugging Face Transformers.    How Health Insurance Document Automation Works\n",
      "---------------------\n",
      "Health insurance document automation works by using advanced technologies to streamline the handling, analysis, and management of healthcare documents. These documents can include anything from claims and pre-authorization requests to explanations of benefits (EOBs), policy agreements, and more. Using tools like artificial intelligence, optical character recognition, natural language processing, and intelligent data extraction, health insurance document automation enables the efficient processing of unstructured and semi-structured data.  Key capabilities of insurance document automation solutions in health insurance include:  Data extraction: Extract relevant data from diverse document formats Validation: Cross-reference extracted data with internal systems or external databases\n",
      "---------------------\n",
      "Classification: Categorize documents by context or type, such as claims, appeals, or patient information Workflow automation: Automate repetitive tasks like document routing, claims triaging, and initiating approval processes System integration: Connect with healthcare systems, CRMs, and claims management platforms. In data analysis, cosine similarity is a measure of similarity between two non-zero vectors defined in an inner product space. Cosine similarity is the cosine of the angle between the vectors; that is, it is the dot product of the vectors divided by the product of their lengths. It follows that the cosine similarity does not depend on the magnitudes of the vectors, but only on their angle. For example, in information retrieval and text mining, each word is assigned a different coordinate and a document is represented by the vector of the numbers of occurrences of each word in the document. Cosine similarity then gives a useful measure of how similar two documents are likely to be, in terms of their subject matter, and independently of the length of the documents.  Clustering jerarquico\n",
      "---------------------\n"
     ]
    }
   ],
   "source": [
    "for chunk in chunks:\n",
    "    print(chunk)\n",
    "    print('---------------------')"
   ]
  },
  {
   "cell_type": "code",
   "execution_count": 27,
   "metadata": {},
   "outputs": [
    {
     "name": "stdout",
     "output_type": "stream",
     "text": [
      "23\n",
      "Using Percentile Thresholding\n",
      "Indices above threshold : [13, 17]\n",
      "END\n",
      "INDEX : 12 - Health insurance document automation works by using advanced technologies to streamline the handling, analysis, and management of healthcare documents.\n",
      "BEFORE SENTENCE\n",
      "INDEX : 11 - Additionally, platforms like Pinecone provide storage and retrieval capabilities that integrate seamlessly with semantic chunking methods.  Other tools for semantic chunking include:  ...LangGraph.  LangChain. Azure AI Document Intelligence. LlamaIndex. Semantic Text Splitter libraries Hugging Face Transformers.    How Health Insurance Document Automation Works\n",
      "END\n",
      "INDEX : 16 - Classification: Categorize documents by context or type, such as claims, appeals, or patient information\n",
      "BEFORE SENTENCE\n",
      "INDEX : 15 - processing of unstructured and semi-structured data.  Key capabilities of insurance document automation solutions in health insurance include:  Data extraction: Extract relevant data from diverse document formats Validation: Cross-reference extracted data with internal systems or external databases\n"
     ]
    }
   ],
   "source": [
    "agentic_chunks = agentic_chunking(file_path, max_chars_per_line, min_chars_per_line, min_lines_per_chunk, max_lines_per_chunk)"
   ]
  },
  {
   "cell_type": "code",
   "execution_count": 6,
   "metadata": {},
   "outputs": [
    {
     "name": "stdout",
     "output_type": "stream",
     "text": [
      "46\n"
     ]
    }
   ],
   "source": [
    "strings = \"How Health Insurance Document Automation Works\"\n",
    "count = 0\n",
    "for c in strings:\n",
    "    count +=1\n",
    "print(count)"
   ]
  },
  {
   "cell_type": "code",
   "execution_count": null,
   "metadata": {},
   "outputs": [],
   "source": [
    "def split_text_into_chunks(filename, max_chars_per_line, min_chars_per_line, min_lines_per_chunk, max_lines_per_chunk):\n",
    "    \"\"\"\n",
    "    Divide el contenido de un archivo de texto en \"chunks\" según las reglas dadas.\n",
    "\n",
    "    Args:\n",
    "        file_path (str): Ruta al archivo de texto.\n",
    "        max_chars_per_line (int): Número máximo de caracteres permitidos por línea.\n",
    "        min_lines_per_chunk (int): Número mínimo de líneas por chunk.\n",
    "        max_lines_per_chunk (int): Número máximo de líneas por chunk.\n",
    "\n",
    "    Returns:\n",
    "        list: Lista de \"chunks\", donde cada chunk es una cadena de texto.\n",
    "    \"\"\"\n",
    "    lines = get_document_lines(filename)\n",
    "\n",
    "    # Asegúrate de que cada línea no exceda el máximo de caracteres por línea y cumpla el mínimo\n",
    "    processed_lines = []\n",
    "    temp_line = \"\"\n",
    "\n",
    "    for line in lines:\n",
    "        line = line.strip()  # Elimina espacios en blanco al inicio y al final\n",
    "\n",
    "        # Si la línea actual es corta, guárdala para unirla con la anterior\n",
    "        if len(line) < min_chars_per_line:\n",
    "            if processed_lines:\n",
    "                # Une la línea corta con la última línea procesada\n",
    "                processed_lines[-1] += \" \" + line\n",
    "            else:\n",
    "                # Si no hay líneas procesadas, guarda como temporal\n",
    "                temp_line = line\n",
    "        else:\n",
    "            # Si hay una línea temporal, añádela al inicio de la línea actual\n",
    "            if temp_line:\n",
    "                line = temp_line + \" \" + line\n",
    "                temp_line = \"\"\n",
    "\n",
    "            # Divide líneas largas únicamente en espacios para evitar cortar palabras\n",
    "            if len(line) > max_chars_per_line:\n",
    "                words = line.split()\n",
    "                current_line = \"\"\n",
    "                for word in words:\n",
    "                    if len(current_line) + len(word) + 1 <= max_chars_per_line:\n",
    "                        current_line += (\" \" + word if current_line else word)\n",
    "                    else:\n",
    "                        processed_lines.append(current_line)\n",
    "                        current_line = word\n",
    "                if current_line:\n",
    "                    processed_lines.append(current_line)\n",
    "            else:\n",
    "                processed_lines.append(line)\n",
    "\n",
    "    # Si queda una línea temporal al final, añádela\n",
    "    if temp_line:\n",
    "        processed_lines[-1] = processed_lines[-1] + \" \" + temp_line\n",
    "\n",
    "    print(processed_lines)\n",
    "    return processed_lines\n",
    "\n",
    "    # Crear chunks basados en el número mínimo y máximo de líneas por chunk\n",
    "    # chunks = []\n",
    "    # current_chunk = []\n",
    "\n",
    "    # for line in processed_lines:\n",
    "    #     current_chunk.append(line)\n",
    "    #     if len(current_chunk) == max_lines_per_chunk:\n",
    "    #         chunks.append(''.join(current_chunk))\n",
    "    #         current_chunk = []\n",
    "\n",
    "    # # Si el chunk actual tiene al menos min_lines_per_chunk líneas, agrégalo\n",
    "    # if current_chunk and len(current_chunk) >= min_lines_per_chunk:\n",
    "    #     chunks.append(''.join(current_chunk))\n",
    "\n",
    "    # return chunks\n",
    "\n",
    "# Uso de la función\n",
    "file_path = \"test\"  # Reemplazar con la ruta real del archivo\n",
    "max_chars_per_line = 200\n",
    "min_chars_per_line = 100\n",
    "min_lines_per_chunk = 5\n",
    "max_lines_per_chunk = 10\n",
    "\n",
    "lines = split_text_into_chunks(file_path, max_chars_per_line, min_chars_per_line, min_lines_per_chunk, max_lines_per_chunk)\n",
    "\n",
    "# Imprime los chunks resultantes\n",
    "# for i, chunk in enumerate(chunks):\n",
    "#     print(f\"Chunk {i+1}:\")\n",
    "#     print(chunk)\n",
    "#     print(\"\\n\" + \"-\"*40 + \"\\n\")\n",
    "\n",
    "for i, line in enumerate(lines):\n",
    "    print(f\"Line {i+1}\")\n",
    "    print(line)\n",
    "    print(\"\\n\" + \"-\"*40 + \"\\n\")"
   ]
  },
  {
   "cell_type": "code",
   "execution_count": 4,
   "metadata": {},
   "outputs": [
    {
     "name": "stdout",
     "output_type": "stream",
     "text": [
      "137\n",
      "135\n",
      "188\n",
      "148\n",
      "141\n",
      "92\n",
      "57\n",
      "173\n",
      "37\n",
      "116\n",
      "160\n",
      "174\n",
      "158\n",
      "178\n",
      "135\n",
      "137\n",
      "56\n",
      "9\n",
      "30\n",
      "10\n",
      "58\n",
      "197\n",
      "143\n",
      "245\n",
      "562\n",
      "125\n",
      "151\n",
      "111\n",
      "202\n",
      "175\n",
      "21\n"
     ]
    }
   ],
   "source": [
    "from grafa.stage_chunking import semantic_chunking\n",
    "\n",
    "chunks = semantic_chunking(document, use_percentile=False)"
   ]
  },
  {
   "cell_type": "code",
   "execution_count": 29,
   "metadata": {},
   "outputs": [
    {
     "data": {
      "text/plain": [
       "4"
      ]
     },
     "execution_count": 29,
     "metadata": {},
     "output_type": "execute_result"
    }
   ],
   "source": [
    "len(chunks)"
   ]
  },
  {
   "cell_type": "code",
   "execution_count": 30,
   "metadata": {},
   "outputs": [
    {
     "name": "stdout",
     "output_type": "stream",
     "text": [
      "Intro to Chunking for RAG\n",
      "Chunking involves splitting a document into smaller pieces—or chunks—that can be embedded and stored as vectors These vectors are later retrieved by the Retrieval Augmented Generation (RAG) system to provide context when responding to user queries There are several different chunking strategies:\n",
      "\n",
      "Fixed-size chunking\n",
      "Recursive chunking\n",
      "Document-specific chunking\n",
      "Semantic chunking\n",
      "Agentic chunking\n",
      "But not all chunking is created equal A common yet simplistic approach is to chunk documents based on arbitrary size—splitting text after a certain number of tokens (characters or words) While straightforward, this method can result in chunks that cut off important context, such as splitting a sentence or paragraph mid-thought This leads to RAG systems generating responses based on fragmented or incomplete information That’s where the semantic chunking method comes into play We have already written in more detail about what chunking documents for RAG is and how to do it, so in this article, we will dive deeper into the semantic chunking strategy So, What Exactly Is Semantic Chunking Semantic chunking, sometimes called intelligent chunking, focuses on preserving the document's meaning and structure Instead of using a fixed chunk size, it strategically divides the document at meaningful breakpoints—like paragraphs, sentences, or thematically linked sections This ensures that each chunk maintains a semantically coherent idea, making it far more useful when a RAG model uses it to generate responses or retrieve relevant information By embedding entire concepts instead of fragments, semantic chunking strengthens the context a RAG system uses, resulting in more precise and coherent outputs Using the Right Tools\n",
      "Tools like Unstructured AI offer a powerful way to perform semantic chunking by converting unstructured documents into coherent chunks ready for RAG systems These tools can also handle non-textual elements, ensuring that every part of a document is accounted for during chunking and embedding Additionally, platforms like Pinecone provide storage and retrieval capabilities that integrate seamlessly with semantic chunking methods Other tools for semantic chunking include:\n",
      "\n",
      "...LangGraph\n",
      "---------------------\n",
      "LangChain\n",
      "---------------------\n",
      "Azure AI Document Intelligence LlamaIndex Semantic Text Splitter libraries\n",
      "Hugging Face Transformers How Health Insurance Document Automation Works\n",
      "Health insurance document automation works by using advanced technologies to streamline the handling, analysis, and management of healthcare documents These documents can include anything from claims and pre-authorization requests to explanations of benefits (EOBs), policy agreements, and more Using tools like artificial intelligence, optical character recognition, natural language processing, and intelligent data extraction, health insurance document automation enables the efficient processing of unstructured and semi-structured data Key capabilities of insurance document automation solutions in health insurance include:\n",
      "\n",
      "Data extraction: Extract relevant data from diverse document formats\n",
      "Validation: Cross-reference extracted data with internal systems or external databases\n",
      "Classification: Categorize documents by context or type, such as claims, appeals, or patient information\n",
      "Workflow automation: Automate repetitive tasks like document routing, claims triaging, and initiating approval processes\n",
      "System integration: Connect with healthcare systems, CRMs, and claims management platforms\n",
      "---------------------\n",
      "In data analysis, cosine similarity is a measure of similarity between two non-zero vectors defined in an inner product space Cosine similarity is the cosine of the angle between the vectors; that is, it is the dot product of the vectors divided by the product of their lengths It follows that the cosine similarity does not depend on the magnitudes of the vectors, but only on their angle For example, in information retrieval and text mining, each word is assigned a different coordinate and a document is represented by the vector of the numbers of occurrences of each word in the document Cosine similarity then gives a useful measure of how similar two documents are likely to be, in terms of their subject matter, and independently of the length of the documents Clustering jerarquico\n",
      "---------------------\n"
     ]
    }
   ],
   "source": [
    "for chunk in chunks:\n",
    "    print(chunk)\n",
    "    print('---------------------')"
   ]
  },
  {
   "cell_type": "code",
   "execution_count": 8,
   "metadata": {},
   "outputs": [
    {
     "name": "stdout",
     "output_type": "stream",
     "text": [
      "31 sentences were found\n",
      "['Intro to Chunking for RAG\\nChunking involves splitting a document into smaller pieces—or chunks—that can be embedded and stored as vectors', 'These vectors are later retrieved by the Retrieval Augmented Generation (RAG) system to provide context when responding to user queries', 'There are several different chunking strategies:\\n\\nFixed-size chunking\\nRecursive chunking\\nDocument-specific chunking\\nSemantic chunking\\nAgentic chunking\\nBut not all chunking is created equal', 'A common yet simplistic approach is to chunk documents based on arbitrary size—splitting text after a certain number of tokens (characters or words)', 'While straightforward, this method can result in chunks that cut off important context, such as splitting a sentence or paragraph mid-thought', 'This leads to RAG systems generating responses based on fragmented or incomplete information', 'That’s where the semantic chunking method comes into play', 'We have already written in more detail about what chunking documents for RAG is and how to do it, so in this article, we will dive deeper into the semantic chunking strategy', 'So, What Exactly Is Semantic Chunking', \"Semantic chunking, sometimes called intelligent chunking, focuses on preserving the document's meaning and structure\", 'Instead of using a fixed chunk size, it strategically divides the document at meaningful breakpoints—like paragraphs, sentences, or thematically linked sections', 'This ensures that each chunk maintains a semantically coherent idea, making it far more useful when a RAG model uses it to generate responses or retrieve relevant information', 'By embedding entire concepts instead of fragments, semantic chunking strengthens the context a RAG system uses, resulting in more precise and coherent outputs', 'Using the Right Tools\\nTools like Unstructured AI offer a powerful way to perform semantic chunking by converting unstructured documents into coherent chunks ready for RAG systems', 'These tools can also handle non-textual elements, ensuring that every part of a document is accounted for during chunking and embedding', 'Additionally, platforms like Pinecone provide storage and retrieval capabilities that integrate seamlessly with semantic chunking methods', 'Other tools for semantic chunking include:\\n\\n...LangGraph', 'LangChain', 'Azure AI Document Intelligence', 'LlamaIndex', 'Semantic Text Splitter libraries\\nHugging Face Transformers', 'How Health Insurance Document Automation Works\\nHealth insurance document automation works by using advanced technologies to streamline the handling, analysis, and management of healthcare documents', 'These documents can include anything from claims and pre-authorization requests to explanations of benefits (EOBs), policy agreements, and more', 'Using tools like artificial intelligence, optical character recognition, natural language processing, and intelligent data extraction, health insurance document automation enables the efficient processing of unstructured and semi-structured data', 'Key capabilities of insurance document automation solutions in health insurance include:\\n\\nData extraction: Extract relevant data from diverse document formats\\nValidation: Cross-reference extracted data with internal systems or external databases\\nClassification: Categorize documents by context or type, such as claims, appeals, or patient information\\nWorkflow automation: Automate repetitive tasks like document routing, claims triaging, and initiating approval processes\\nSystem integration: Connect with healthcare systems, CRMs, and claims management platforms', 'In data analysis, cosine similarity is a measure of similarity between two non-zero vectors defined in an inner product space', 'Cosine similarity is the cosine of the angle between the vectors; that is, it is the dot product of the vectors divided by the product of their lengths', 'It follows that the cosine similarity does not depend on the magnitudes of the vectors, but only on their angle', 'For example, in information retrieval and text mining, each word is assigned a different coordinate and a document is represented by the vector of the numbers of occurrences of each word in the document', 'Cosine similarity then gives a useful measure of how similar two documents are likely to be, in terms of their subject matter, and independently of the length of the documents', 'Clustering jerarquico']\n"
     ]
    }
   ],
   "source": [
    "# Improved regex to handle listings\n",
    "pattern = r'(?<!\\d)\\.(?=\\s+|$)|[?!](?=\\s+|$)'\n",
    "single_sentences_list = re.split(pattern, document)\n",
    "\n",
    "# Remove empty strings and strip whitespace\n",
    "single_sentences_list = [sentence.strip() for sentence in single_sentences_list if sentence.strip()]\n",
    "\n",
    "\n",
    "print(f\"{len(single_sentences_list)} sentences were found\")\n",
    "print(single_sentences_list)"
   ]
  },
  {
   "cell_type": "code",
   "execution_count": 99,
   "metadata": {},
   "outputs": [],
   "source": [
    "processed_lines = []\n",
    "temp_line = \"\"\n",
    "for sentence in single_sentences_list:\n",
    "        # Si hay una línea temporal, añádela a la línea actual\n",
    "        if temp_line:\n",
    "            sentence = temp_line + \" \" + sentence\n",
    "            temp_line = \"\"\n",
    "\n",
    "        # Divide líneas largas\n",
    "        # Divide líneas largas únicamente en espacios para evitar cortar palabras\n",
    "        if len(sentence) > 200:\n",
    "            words = sentence.split()\n",
    "            current_line = \"\"\n",
    "            for word in words:\n",
    "                if len(current_line) + len(word) + 1 <= 200:\n",
    "                    current_line += (\" \" + word if current_line else word)\n",
    "                else:\n",
    "                    processed_lines.append(current_line)\n",
    "                    current_line = word\n",
    "            if current_line:\n",
    "                processed_lines.append(current_line)\n",
    "        elif len(sentence) < 50:\n",
    "            # Guarda líneas cortas temporalmente para unirlas con la siguiente\n",
    "            temp_line = sentence\n",
    "        else:\n",
    "            processed_lines.append(sentence)\n",
    "\n",
    "# Si queda una línea temporal al final, añádela\n",
    "if temp_line:\n",
    "    processed_lines[-1] = processed_lines[-1] + \" \" + temp_line"
   ]
  },
  {
   "cell_type": "code",
   "execution_count": 100,
   "metadata": {},
   "outputs": [
    {
     "name": "stdout",
     "output_type": "stream",
     "text": [
      "9 sentences were found\n",
      "['<titulo>\\n    Cuadrantes de desempeño de promociones\\n</titulo>\\n<descripcion>\\n    Una manera de clasificar el desempeño de promociones es utilizando cuadrantes', 'Dependiendo de la posición en el gráfico de dos variables (volumen incremental en measurement_unit, y ROI), se puede clasificar el desempeño de una promoción', 'Los cuadrantes se definen de la siguiente manera: - Cuadrante verde: volumen incremental positivo y ROI positivo - Cuadrante amarillo 1: volumen incremental positivo y ROI negativo o cero - Cuadrante', 'amarillo 2: volumen incremental negativo o cero y ROI positivo - Cuadrante rojo: volumen incremental negativo y ROI negativo o cero Las promociones deseables son las que se encuentran en el cuadrante', 'verde', 'Las promociones que se deben evitar son las que se encuentran en el cuadrante rojo', 'Las promociones que pueden ser interesantes de analizar son las que se encuentran en el cuadrante amarillo', '</descripcion> <ejemplo> Cuadrante,Número de promociones,Porcentaje de promociones,Inversión,Porcentaje de inversión - Volume and - ROI,521,11.96 %,30.33M,8.44 % + Volume and + ROI,2060,47.29', '%,126.01M,35.06 % - Volume and + ROI,124,2.85 %,3.27M,0.91 % + Volume and - ROI,1651,37.9 %,199.76M,55.59 % Total,4356,100.0 %,359.37M,100.00 % </ejemplo>']\n"
     ]
    }
   ],
   "source": [
    "print(f\"{len(processed_lines)} sentences were found\")\n",
    "print(processed_lines)"
   ]
  },
  {
   "cell_type": "code",
   "execution_count": 9,
   "metadata": {},
   "outputs": [
    {
     "data": {
      "text/plain": [
       "[{'sentence': 'Intro to Chunking for RAG\\nChunking involves splitting a document into smaller pieces—or chunks—that can be embedded and stored as vectors',\n",
       "  'index': 0},\n",
       " {'sentence': 'These vectors are later retrieved by the Retrieval Augmented Generation (RAG) system to provide context when responding to user queries',\n",
       "  'index': 1},\n",
       " {'sentence': 'There are several different chunking strategies:\\n\\nFixed-size chunking\\nRecursive chunking\\nDocument-specific chunking\\nSemantic chunking\\nAgentic chunking\\nBut not all chunking is created equal',\n",
       "  'index': 2},\n",
       " {'sentence': 'A common yet simplistic approach is to chunk documents based on arbitrary size—splitting text after a certain number of tokens (characters or words)',\n",
       "  'index': 3},\n",
       " {'sentence': 'While straightforward, this method can result in chunks that cut off important context, such as splitting a sentence or paragraph mid-thought',\n",
       "  'index': 4},\n",
       " {'sentence': 'This leads to RAG systems generating responses based on fragmented or incomplete information',\n",
       "  'index': 5},\n",
       " {'sentence': 'That’s where the semantic chunking method comes into play',\n",
       "  'index': 6},\n",
       " {'sentence': 'We have already written in more detail about what chunking documents for RAG is and how to do it, so in this article, we will dive deeper into the semantic chunking strategy',\n",
       "  'index': 7},\n",
       " {'sentence': 'So, What Exactly Is Semantic Chunking', 'index': 8},\n",
       " {'sentence': \"Semantic chunking, sometimes called intelligent chunking, focuses on preserving the document's meaning and structure\",\n",
       "  'index': 9},\n",
       " {'sentence': 'Instead of using a fixed chunk size, it strategically divides the document at meaningful breakpoints—like paragraphs, sentences, or thematically linked sections',\n",
       "  'index': 10},\n",
       " {'sentence': 'This ensures that each chunk maintains a semantically coherent idea, making it far more useful when a RAG model uses it to generate responses or retrieve relevant information',\n",
       "  'index': 11},\n",
       " {'sentence': 'By embedding entire concepts instead of fragments, semantic chunking strengthens the context a RAG system uses, resulting in more precise and coherent outputs',\n",
       "  'index': 12},\n",
       " {'sentence': 'Using the Right Tools\\nTools like Unstructured AI offer a powerful way to perform semantic chunking by converting unstructured documents into coherent chunks ready for RAG systems',\n",
       "  'index': 13},\n",
       " {'sentence': 'These tools can also handle non-textual elements, ensuring that every part of a document is accounted for during chunking and embedding',\n",
       "  'index': 14},\n",
       " {'sentence': 'Additionally, platforms like Pinecone provide storage and retrieval capabilities that integrate seamlessly with semantic chunking methods',\n",
       "  'index': 15},\n",
       " {'sentence': 'Other tools for semantic chunking include:\\n\\n...LangGraph',\n",
       "  'index': 16},\n",
       " {'sentence': 'LangChain', 'index': 17},\n",
       " {'sentence': 'Azure AI Document Intelligence', 'index': 18},\n",
       " {'sentence': 'LlamaIndex', 'index': 19},\n",
       " {'sentence': 'Semantic Text Splitter libraries\\nHugging Face Transformers',\n",
       "  'index': 20},\n",
       " {'sentence': 'How Health Insurance Document Automation Works\\nHealth insurance document automation works by using advanced technologies to streamline the handling, analysis, and management of healthcare documents',\n",
       "  'index': 21},\n",
       " {'sentence': 'These documents can include anything from claims and pre-authorization requests to explanations of benefits (EOBs), policy agreements, and more',\n",
       "  'index': 22},\n",
       " {'sentence': 'Using tools like artificial intelligence, optical character recognition, natural language processing, and intelligent data extraction, health insurance document automation enables the efficient processing of unstructured and semi-structured data',\n",
       "  'index': 23},\n",
       " {'sentence': 'Key capabilities of insurance document automation solutions in health insurance include:\\n\\nData extraction: Extract relevant data from diverse document formats\\nValidation: Cross-reference extracted data with internal systems or external databases\\nClassification: Categorize documents by context or type, such as claims, appeals, or patient information\\nWorkflow automation: Automate repetitive tasks like document routing, claims triaging, and initiating approval processes\\nSystem integration: Connect with healthcare systems, CRMs, and claims management platforms',\n",
       "  'index': 24},\n",
       " {'sentence': 'In data analysis, cosine similarity is a measure of similarity between two non-zero vectors defined in an inner product space',\n",
       "  'index': 25},\n",
       " {'sentence': 'Cosine similarity is the cosine of the angle between the vectors; that is, it is the dot product of the vectors divided by the product of their lengths',\n",
       "  'index': 26},\n",
       " {'sentence': 'It follows that the cosine similarity does not depend on the magnitudes of the vectors, but only on their angle',\n",
       "  'index': 27},\n",
       " {'sentence': 'For example, in information retrieval and text mining, each word is assigned a different coordinate and a document is represented by the vector of the numbers of occurrences of each word in the document',\n",
       "  'index': 28},\n",
       " {'sentence': 'Cosine similarity then gives a useful measure of how similar two documents are likely to be, in terms of their subject matter, and independently of the length of the documents',\n",
       "  'index': 29},\n",
       " {'sentence': 'Clustering jerarquico', 'index': 30}]"
      ]
     },
     "execution_count": 9,
     "metadata": {},
     "output_type": "execute_result"
    }
   ],
   "source": [
    "sentences = [{'sentence': x, 'index' : i} for i, x in enumerate(single_sentences_list)]\n",
    "sentences"
   ]
  },
  {
   "cell_type": "code",
   "execution_count": 101,
   "metadata": {},
   "outputs": [
    {
     "data": {
      "text/plain": [
       "[{'sentence': '<titulo>\\n    Cuadrantes de desempeño de promociones\\n</titulo>\\n<descripcion>\\n    Una manera de clasificar el desempeño de promociones es utilizando cuadrantes',\n",
       "  'index': 0},\n",
       " {'sentence': 'Dependiendo de la posición en el gráfico de dos variables (volumen incremental en measurement_unit, y ROI), se puede clasificar el desempeño de una promoción',\n",
       "  'index': 1},\n",
       " {'sentence': 'Los cuadrantes se definen de la siguiente manera: - Cuadrante verde: volumen incremental positivo y ROI positivo - Cuadrante amarillo 1: volumen incremental positivo y ROI negativo o cero - Cuadrante',\n",
       "  'index': 2},\n",
       " {'sentence': 'amarillo 2: volumen incremental negativo o cero y ROI positivo - Cuadrante rojo: volumen incremental negativo y ROI negativo o cero Las promociones deseables son las que se encuentran en el cuadrante',\n",
       "  'index': 3},\n",
       " {'sentence': 'verde', 'index': 4},\n",
       " {'sentence': 'Las promociones que se deben evitar son las que se encuentran en el cuadrante rojo',\n",
       "  'index': 5},\n",
       " {'sentence': 'Las promociones que pueden ser interesantes de analizar son las que se encuentran en el cuadrante amarillo',\n",
       "  'index': 6},\n",
       " {'sentence': '</descripcion> <ejemplo> Cuadrante,Número de promociones,Porcentaje de promociones,Inversión,Porcentaje de inversión - Volume and - ROI,521,11.96 %,30.33M,8.44 % + Volume and + ROI,2060,47.29',\n",
       "  'index': 7},\n",
       " {'sentence': '%,126.01M,35.06 % - Volume and + ROI,124,2.85 %,3.27M,0.91 % + Volume and - ROI,1651,37.9 %,199.76M,55.59 % Total,4356,100.0 %,359.37M,100.00 % </ejemplo>',\n",
       "  'index': 8}]"
      ]
     },
     "execution_count": 101,
     "metadata": {},
     "output_type": "execute_result"
    }
   ],
   "source": [
    "sentences = [{'sentence': x, 'index' : i} for i, x in enumerate(processed_lines)]\n",
    "sentences\n"
   ]
  },
  {
   "cell_type": "code",
   "execution_count": 10,
   "metadata": {},
   "outputs": [],
   "source": [
    "def combine_sentences(sentences, buffer_size=1):\n",
    "    # Go through each sentence dict\n",
    "    for i in range(len(sentences)):\n",
    "\n",
    "        # Create a string that will hold the sentences which are joined\n",
    "        combined_sentence = ''\n",
    "\n",
    "        # Add sentences before the current one, based on the buffer size.\n",
    "        for j in range(i - buffer_size, i):\n",
    "            # Check if the index j is not negative (to avoid index out of range like on the first one)\n",
    "            if j >= 0:\n",
    "                # Add the sentence at index j to the combined_sentence string\n",
    "                combined_sentence += sentences[j]['sentence'] + ' '\n",
    "\n",
    "        # Add the current sentence\n",
    "        combined_sentence += sentences[i]['sentence']\n",
    "\n",
    "        # Add sentences after the current one, based on the buffer size\n",
    "        for j in range(i + 1, i + 1 + buffer_size):\n",
    "            # Check if the index j is within the range of the sentences list\n",
    "            if j < len(sentences):\n",
    "                # Add the sentence at index j to the combined_sentence string\n",
    "                combined_sentence += ' ' + sentences[j]['sentence']\n",
    "\n",
    "        # Then add the whole thing to your dict\n",
    "        # Store the combined sentence in the current sentence dict\n",
    "        sentences[i]['combined_sentence'] = combined_sentence\n",
    "\n",
    "    return sentences\n",
    "\n",
    "sentences = combine_sentences(sentences)"
   ]
  },
  {
   "cell_type": "code",
   "execution_count": 11,
   "metadata": {},
   "outputs": [
    {
     "data": {
      "text/plain": [
       "[{'sentence': 'Intro to Chunking for RAG\\nChunking involves splitting a document into smaller pieces—or chunks—that can be embedded and stored as vectors',\n",
       "  'index': 0,\n",
       "  'combined_sentence': 'Intro to Chunking for RAG\\nChunking involves splitting a document into smaller pieces—or chunks—that can be embedded and stored as vectors These vectors are later retrieved by the Retrieval Augmented Generation (RAG) system to provide context when responding to user queries'},\n",
       " {'sentence': 'These vectors are later retrieved by the Retrieval Augmented Generation (RAG) system to provide context when responding to user queries',\n",
       "  'index': 1,\n",
       "  'combined_sentence': 'Intro to Chunking for RAG\\nChunking involves splitting a document into smaller pieces—or chunks—that can be embedded and stored as vectors These vectors are later retrieved by the Retrieval Augmented Generation (RAG) system to provide context when responding to user queries There are several different chunking strategies:\\n\\nFixed-size chunking\\nRecursive chunking\\nDocument-specific chunking\\nSemantic chunking\\nAgentic chunking\\nBut not all chunking is created equal'},\n",
       " {'sentence': 'There are several different chunking strategies:\\n\\nFixed-size chunking\\nRecursive chunking\\nDocument-specific chunking\\nSemantic chunking\\nAgentic chunking\\nBut not all chunking is created equal',\n",
       "  'index': 2,\n",
       "  'combined_sentence': 'These vectors are later retrieved by the Retrieval Augmented Generation (RAG) system to provide context when responding to user queries There are several different chunking strategies:\\n\\nFixed-size chunking\\nRecursive chunking\\nDocument-specific chunking\\nSemantic chunking\\nAgentic chunking\\nBut not all chunking is created equal A common yet simplistic approach is to chunk documents based on arbitrary size—splitting text after a certain number of tokens (characters or words)'}]"
      ]
     },
     "execution_count": 11,
     "metadata": {},
     "output_type": "execute_result"
    }
   ],
   "source": [
    "sentences[:3]"
   ]
  },
  {
   "cell_type": "code",
   "execution_count": 12,
   "metadata": {},
   "outputs": [
    {
     "name": "stderr",
     "output_type": "stream",
     "text": [
      "/tmp/ipykernel_22923/662863333.py:2: LangChainDeprecationWarning: The class `OpenAIEmbeddings` was deprecated in LangChain 0.0.9 and will be removed in 1.0. An updated version of the class exists in the :class:`~langchain-openai package and should be used instead. To use it run `pip install -U :class:`~langchain-openai` and import as `from :class:`~langchain_openai import OpenAIEmbeddings``.\n",
      "  oaiembeds = OpenAIEmbeddings()\n"
     ]
    }
   ],
   "source": [
    "from langchain.embeddings import OpenAIEmbeddings\n",
    "oaiembeds = OpenAIEmbeddings()"
   ]
  },
  {
   "cell_type": "code",
   "execution_count": 13,
   "metadata": {},
   "outputs": [],
   "source": [
    "embeddings = oaiembeds.embed_documents([x['combined_sentence'] for x in sentences])"
   ]
  },
  {
   "cell_type": "code",
   "execution_count": 14,
   "metadata": {},
   "outputs": [],
   "source": [
    "for i, sentence in enumerate(sentences):\n",
    "    sentence['combined_sentence_embedding'] = embeddings[i]"
   ]
  },
  {
   "cell_type": "code",
   "execution_count": 15,
   "metadata": {},
   "outputs": [],
   "source": [
    "from sklearn.metrics.pairwise import cosine_similarity\n",
    "\n",
    "def calculate_cosine_distances(sentences):\n",
    "    distances = []\n",
    "    for i in range(len(sentences) - 1):\n",
    "        embedding_current = sentences[i]['combined_sentence_embedding']\n",
    "        embedding_next = sentences[i + 1]['combined_sentence_embedding']\n",
    "        \n",
    "        # Calculate cosine similarity\n",
    "        similarity = cosine_similarity([embedding_current], [embedding_next])[0][0]\n",
    "        \n",
    "        # Convert to cosine distance\n",
    "        distance = 1 - similarity\n",
    "\n",
    "        # Append cosine distance to the list\n",
    "        distances.append(distance)\n",
    "\n",
    "        # Store distance in the dictionary\n",
    "        sentences[i]['distance_to_next'] = distance\n",
    "\n",
    "    # Optionally handle the last sentence\n",
    "    # sentences[-1]['distance_to_next'] = None  # or a default value\n",
    "\n",
    "    return distances, sentences"
   ]
  },
  {
   "cell_type": "code",
   "execution_count": 16,
   "metadata": {},
   "outputs": [],
   "source": [
    "distances, sentences = calculate_cosine_distances(sentences)\n"
   ]
  },
  {
   "cell_type": "code",
   "execution_count": 17,
   "metadata": {},
   "outputs": [
    {
     "data": {
      "text/plain": [
       "[0.014149362191932857,\n",
       " 0.03796812940953398,\n",
       " 0.06306170787534793,\n",
       " 0.07180167073152866,\n",
       " 0.07369181973380512,\n",
       " 0.05846755809925264,\n",
       " 0.044038149532512505,\n",
       " 0.034004044783014886,\n",
       " 0.05792133124916121,\n",
       " 0.034504252353537046,\n",
       " 0.04707549124813171,\n",
       " 0.05744333977252025,\n",
       " 0.02165398900855542,\n",
       " 0.045118006936314625,\n",
       " 0.07805477116953063,\n",
       " 0.040740484294190527,\n",
       " 0.08863991767818846,\n",
       " 0.12795077375643793,\n",
       " 0.11942920632926535,\n",
       " 0.08565482989616546,\n",
       " 0.04826188541569765,\n",
       " 0.07047437458579642,\n",
       " 0.03719837436527473,\n",
       " 0.06818649191960158,\n",
       " 0.02651106064016795,\n",
       " 0.1541452614301938,\n",
       " 0.038447660253265625,\n",
       " 0.0390462674752603,\n",
       " 0.06760284352702417,\n",
       " 0.06243547270723937]"
      ]
     },
     "execution_count": 17,
     "metadata": {},
     "output_type": "execute_result"
    }
   ],
   "source": [
    "distances"
   ]
  },
  {
   "cell_type": "code",
   "execution_count": 18,
   "metadata": {},
   "outputs": [
    {
     "data": {
      "text/plain": [
       "[<matplotlib.lines.Line2D at 0xffff23001f50>]"
      ]
     },
     "execution_count": 18,
     "metadata": {},
     "output_type": "execute_result"
    },
    {
     "data": {
      "image/png": "[encoded data removed]",
      "text/plain": [
       "<Figure size 640x480 with 1 Axes>"
      ]
     },
     "metadata": {},
     "output_type": "display_data"
    }
   ],
   "source": [
    "import matplotlib.pyplot as plt\n",
    "\n",
    "plt.plot(distances)"
   ]
  },
  {
   "cell_type": "code",
   "execution_count": 21,
   "metadata": {},
   "outputs": [
    {
     "data": {
      "image/png": "[encoded data removed]",
      "text/plain": [
       "<Figure size 640x480 with 1 Axes>"
      ]
     },
     "metadata": {},
     "output_type": "display_data"
    }
   ],
   "source": [
    "import numpy as np\n",
    "\n",
    "plt.plot(distances)\n",
    "\n",
    "y_upper_bound = .2\n",
    "plt.ylim(0, y_upper_bound)\n",
    "plt.xlim(0, len(distances))\n",
    "\n",
    "breakpoint_percentile_threshold = 90\n",
    "breakpoint_distance_threshold = np.percentile(distances, breakpoint_percentile_threshold) \n",
    "plt.axhline(y=breakpoint_distance_threshold, color='r', linestyle='-');\n",
    "\n",
    "num_distances_above_theshold = len([x for x in distances if x > breakpoint_distance_threshold]) # The amount of distances above your threshold\n",
    "plt.text(x=(len(distances)*.01), y=y_upper_bound/50, s=f\"{num_distances_above_theshold + 1} Chunks\");\n",
    "\n",
    "indices_above_thresh = [i for i, x in enumerate(distances) if x > breakpoint_distance_threshold] # The indices of those breakpoints on your list\n",
    "\n",
    "# Start of the shading and text\n",
    "colors = ['b', 'g', 'r', 'c', 'm', 'y', 'k']\n",
    "for i, breakpoint_index in enumerate(indices_above_thresh):\n",
    "    start_index = 0 if i == 0 else indices_above_thresh[i - 1]\n",
    "    end_index = breakpoint_index if i < len(indices_above_thresh) - 1 else len(distances)\n",
    "\n",
    "    plt.axvspan(start_index, end_index, facecolor=colors[i % len(colors)], alpha=0.25)\n",
    "    plt.text(x=np.average([start_index, end_index]),\n",
    "             y=breakpoint_distance_threshold + (y_upper_bound)/ 20,\n",
    "             s=f\"Chunk #{i}\", horizontalalignment='center',\n",
    "             rotation='vertical')\n",
    "\n",
    "# # Additional step to shade from the last breakpoint to the end of the dataset\n",
    "if indices_above_thresh:\n",
    "    last_breakpoint = indices_above_thresh[-1]\n",
    "    if last_breakpoint < len(distances):\n",
    "        plt.axvspan(last_breakpoint, len(distances), facecolor=colors[len(indices_above_thresh) % len(colors)], alpha=0.25)\n",
    "        plt.text(x=np.average([last_breakpoint, len(distances)]),\n",
    "                 y=breakpoint_distance_threshold + (y_upper_bound)/ 20,\n",
    "                 s=f\"Chunk #{i+1}\",\n",
    "                 rotation='vertical')\n",
    "\n",
    "plt.title(\"PG Essay Chunks Based On Embedding Breakpoints\")\n",
    "plt.xlabel(\"Index of sentences in essay (Sentence Position)\")\n",
    "plt.ylabel(\"Cosine distance between sequential sentences\")\n",
    "plt.show()"
   ]
  },
  {
   "cell_type": "code",
   "execution_count": 22,
   "metadata": {},
   "outputs": [
    {
     "data": {
      "text/plain": [
       "[17, 18, 25]"
      ]
     },
     "execution_count": 22,
     "metadata": {},
     "output_type": "execute_result"
    }
   ],
   "source": [
    "indices_above_thresh"
   ]
  },
  {
   "cell_type": "code",
   "execution_count": 42,
   "metadata": {},
   "outputs": [],
   "source": [
    "# Initialize the start index\n",
    "start_index = 0\n",
    "\n",
    "# Create a list to hold the grouped sentences\n",
    "chunks = []\n",
    "\n",
    "# Iterate through the breakpoints to slice the sentences\n",
    "for index in indices_above_thresh:\n",
    "    # The end index is the current breakpoint\n",
    "    end_index = index - 1\n",
    "\n",
    "    # Slice the sentence_dicts from the current start index to the end index\n",
    "    group = sentences[start_index:end_index + 1]\n",
    "    combined_text = ' '.join([d['sentence'] for d in group])\n",
    "    chunks.append(combined_text)\n",
    "    \n",
    "    # Update the start index for the next group\n",
    "    start_index = index \n",
    "\n",
    "# The last group, if any sentences remain\n",
    "if start_index < len(sentences):\n",
    "    combined_text = ' '.join([d['sentence'] for d in sentences[start_index:]])\n",
    "    chunks.append(combined_text)\n",
    "\n"
   ]
  },
  {
   "cell_type": "code",
   "execution_count": 43,
   "metadata": {},
   "outputs": [
    {
     "name": "stdout",
     "output_type": "stream",
     "text": [
      "Chunk #0\n",
      "Intro to Chunking for RAG\n",
      "Chunking involves splitting a document into smaller pieces—or chunks—that can be embedded and stored as vectors These vectors are later retrieved by the Retrieval Augmented G\n",
      "...\n",
      "ate seamlessly with semantic chunking methods Other tools for semantic chunking include:\n",
      "\n",
      "LangChain\n",
      "Azure AI Document Intelligence\n",
      "LlamaIndex\n",
      "Semantic Text Splitter libraries\n",
      "Hugging Face Transformers\n",
      "\n",
      "\n",
      "Chunk #1\n",
      "How Health Insurance Document Automation Works\n",
      "Health insurance document automation works by using advanced technologies to streamline the handling, analysis, and management of healthcare documents Th\n",
      "...\n",
      "Key capabilities of insurance document automation solutions in health insurance include: Data extraction: Extract relevant data from diverse document formats Validation: Cross-reference extracted data\n",
      "\n",
      "\n",
      "Chunk #2\n",
      "with internal systems or external databases Classification: Categorize documents by context or type, such as claims, appeals, or patient information Workflow automation: Automate repetitive tasks like\n",
      "...\n",
      "ach word in the document Cosine similarity then gives a useful measure of how similar two documents are likely to be, in terms of their subject matter, and independently of the length of the documents\n",
      "\n",
      "\n"
     ]
    }
   ],
   "source": [
    "for i, chunk in enumerate(chunks[:3]):\n",
    "    buffer = 200\n",
    "    \n",
    "    print (f\"Chunk #{i}\")\n",
    "    print (chunk[:buffer].strip())\n",
    "    print (\"...\")\n",
    "    print (chunk[-buffer:].strip())\n",
    "    print (\"\\n\")"
   ]
  },
  {
   "cell_type": "code",
   "execution_count": null,
   "metadata": {},
   "outputs": [],
   "source": []
  },
  {
   "cell_type": "code",
   "execution_count": 49,
   "metadata": {},
   "outputs": [
    {
     "data": {
      "text/plain": [
       "'In data analysis, cosine similarity is a measure of similarity between two non-zero vectors defined in an inner product space'"
      ]
     },
     "execution_count": 49,
     "metadata": {},
     "output_type": "execute_result"
    }
   ],
   "source": [
    "sentences[23]['sentence']"
   ]
  }
 ],
 "metadata": {
  "kernelspec": {
   "display_name": ".expertai",
   "language": "python",
   "name": "python3"
  },
  "language_info": {
   "codemirror_mode": {
    "name": "ipython",
    "version": 3
   },
   "file_extension": ".py",
   "mimetype": "text/x-python",
   "name": "python",
   "nbconvert_exporter": "python",
   "pygments_lexer": "ipython3",
   "version": "3.11.8"
  }
 },
 "nbformat": 4,
 "nbformat_minor": 2
}
