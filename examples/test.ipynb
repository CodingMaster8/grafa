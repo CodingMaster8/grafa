{
 "cells": [
  {
   "cell_type": "markdown",
   "metadata": {},
   "source": [
    "## Test with new Grafa Repo"
   ]
  },
  {
   "cell_type": "code",
   "execution_count": 4,
   "metadata": {},
   "outputs": [],
   "source": [
    "import sys\n",
    "sys.path.append('/data/libraries/grafa/')"
   ]
  },
  {
   "cell_type": "code",
   "execution_count": 5,
   "metadata": {},
   "outputs": [],
   "source": [
    "from grafa import add_document\n",
    "from grafa import get_db_engine \n",
    "from grafa import SCHEMA, RELATIONSHIP_SCHEMA\n",
    "from grafa.stage_search import create_vector_index"
   ]
  },
  {
   "cell_type": "code",
   "execution_count": 6,
   "metadata": {},
   "outputs": [],
   "source": [
    "kg = get_db_engine()"
   ]
  },
  {
   "cell_type": "markdown",
   "metadata": {},
   "source": [
    "### Graph Schemas"
   ]
  },
  {
   "cell_type": "code",
   "execution_count": 7,
   "metadata": {},
   "outputs": [],
   "source": [
    "node_schema = SCHEMA\n",
    "relationship_schema = RELATIONSHIP_SCHEMA"
   ]
  },
  {
   "cell_type": "markdown",
   "metadata": {},
   "source": [
    "### Define Vector Indexes and Embeddings"
   ]
  },
  {
   "cell_type": "code",
   "execution_count": null,
   "metadata": {},
   "outputs": [
    {
     "name": "stdout",
     "output_type": "stream",
     "text": [
      "Vector Index 'vector_chunks' created successfully.\n",
      "Vector Index 'vector_concepts' created successfully.\n"
     ]
    }
   ],
   "source": [
    "#Only Once\n",
    "# create_vector_index('vector_chunks', 'Chunk', 'textEmbedding', kg)\n",
    "# create_vector_index('vector_concepts', 'Concept', 'descriptionEmbedding', kg)"
   ]
  },
  {
   "cell_type": "code",
   "execution_count": 8,
   "metadata": {},
   "outputs": [],
   "source": [
    "index_name = 'vector_concepts'"
   ]
  },
  {
   "cell_type": "code",
   "execution_count": 9,
   "metadata": {},
   "outputs": [
    {
     "name": "stdout",
     "output_type": "stream",
     "text": [
      "Entity company_info-chunk0000 of type chunk added to the graph\n",
      "Entity company_info-chunk0001 of type chunk added to the graph\n",
      "Entity company_info-chunk0002 of type chunk added to the graph\n",
      "---- NODES ----\n",
      "{'type': 'Company', 'name': 'Arca Continental', 'description': \"Arca Continental es una empresa multinacional dedicada principalmente a la producción, distribución y venta de bebidas. Es el segundo embotellador más grande de Coca-Cola en América Latina y uno de los más importantes a nivel mundial. Opera en 5 países: México, Estados Unidos, Ecuador, Perú y Argentina. Cuenta con 45 centros de producción, 66,000 colaboradores y más de 1.6 millones de puntos de venta. Maneja un portafolio de 160 marcas y 1,770 SKUs, incluyendo refrescos, lácteos, café, té, botanas, bebidas energéticas, dulces y jugos. Fue fundada en 2011 mediante la fusión de Embotelladoras Arca y Grupo Continental. Cotiza en la Bolsa Mexicana de Valores bajo el símbolo 'AC' y tiene una trayectoria de más de 96 años en la industria.\"}\n",
      "{'type': 'Company', 'name': 'The Coca-Cola Company', 'description': 'Empresa propietaria de marcas de bebidas que otorga licencias a Arca Continental para la producción y distribución de sus productos.'}\n",
      "{'type': 'Concept', 'name': 'Unidades Operativas', 'synonyms': ['Operating Units', 'Divisiones Operacionales'], 'description': 'Unidades Operativas son las divisiones principales de Arca Continental que consisten en: 1. Bebidas México 2. Bebidas Estados Unidos 3. Bebidas Sudamérica 4. Alimentos y Botanas'}\n",
      "----------------\n",
      "Similar Concepts Identified for concept Unidades Operativas:\n",
      "[{'node.name': 'Unidades Operativas', 'node.description': 'Unidades Operativas son las cuatro divisiones principales de Arca Continental: 1. Bebidas México 2. Bebidas Estados Unidos 3. Bebidas Sudamérica 4. Alimentos y Botanas Unidades Operativas son las cuatro divisiones principales de Arca Continental: 1. Bebidas México 2. Bebidas Estados Unidos 3. Bebidas Sudamérica 4. Alimentos y Botanas', 'score': 0.9887847900390625, 'index': 0}, {'node.name': 'Portafolio de Productos', 'node.description': 'Portafolio de Productos es el conjunto de productos que maneja Arca Continental, que incluye 160 marcas y 1,770 SKUs, abarcando refrescos, lácteos, café, té, botanas, bebidas energéticas, dulces y jugos. En México incluye todas las marcas de Coca-Cola, Powerade, Monster Energy y Fuze Tea, además de botanas bajo las marcas Bokados (México), Inalecsa (Ecuador) y Wise (Estados Unidos).', 'score': 0.9376983642578125, 'index': 1}, {'node.name': 'Unidad de medida', 'node.description': 'Unidad de medida Measurement Unit\\nLa unidad de medida de volumen que usa particularmente Arca México. La unidad de medida es Caja Unidad (CU). Una CU tiene 5.678 litros.', 'score': 0.9019622802734375, 'index': 2}]\n",
      "Running Agentic Decision...\n",
      "-----------------------------\n",
      "Entity Unidades Operativas identified as synonym of Entity Unidades Operativas\n",
      "-----------------------------\n",
      "Embedding property 'descriptionEmbedding' updated successfully for node 'Unidades Operativas' of type 'Concept'.\n",
      "Added relationship: (company_info-chunk0000)-[:SOURCE]->(Unidades Operativas)\n",
      "Added relationship: (Arca Continental)-[:IS_RELATED_TO]->(The Coca-Cola Company)\n",
      "Added relationship: (Arca Continental)-[:IS_RELATED_TO]->(Unidades Operativas)\n",
      "Embedding property 'descriptionEmbedding' added successfully to 'Concept' nodes.\n",
      "---- NODES ----\n",
      "{'type': 'Company', 'name': 'Arca Continental', 'description': 'Arca Continental is one of the largest Coca-Cola bottlers in the world and an important beverage and snack company in Latin America. The company operates in Mexico, Ecuador, Peru, Argentina and the United States.'}\n",
      "----------------\n",
      "Embedding property 'descriptionEmbedding' added successfully to 'Concept' nodes.\n",
      "---- NODES ----\n",
      "{'type': 'Company', 'name': 'Arca Mexico', 'description': 'A company that operates in the traditional sales channel, selling products to retailers (small stores).'}\n",
      "{'type': 'Concept', 'name': 'Sellin', 'synonyms': ['Sell-in', 'Venta al minorista'], 'description': 'Sellin refers to the sales made by Arca Mexico to retailers in the traditional channel. This is the primary sales measurement used by Arca Mexico as they cannot track the final sales to consumers (sellout) from these small stores.'}\n",
      "{'type': 'Rule', 'name': 'Price Metric Selection Rule', 'rule_description': \"Use 'price_to_retailer' and 'price_to_retailer_promo' for any calculations about price. Do not use 'price_to_consumer', 'price_to_consumer_promo', or 'price_to_consumer_promo_real'.\"}\n",
      "{'type': 'Rule', 'name': 'Sales Channel Measurement Rule', 'rule_description': 'Use sellin information only, as it deals with the traditional channel. Do not use sellout information.'}\n",
      "{'type': 'Concept', 'name': 'Traditional Channel', 'synonyms': ['Canal Tradicional', 'Traditional Sales Channel'], 'description': 'Traditional Channel refers to the sales channel where Arca Mexico sells products to retailers (small stores) who then sell to final consumers.'}\n",
      "{'type': 'Concept', 'name': 'Client', 'synonyms': ['Cliente', 'Retailer', 'Store'], 'description': \"Client in Arca Mexico's context refers to the stores that it sells to directly through the traditional channel.\"}\n",
      "----------------\n",
      "Similar Concepts Identified for concept Sellin:\n",
      "[{'node.name': 'sellin', 'node.description': 'Sellin refers to the sales made by Arca Mexico to retailers in the traditional channel. This metric is used instead of sellout as it represents direct sales to retailers. Sellin refers to the sales information between the company (Arca Mexico) and its direct clients (retailers/small stores), representing the traditional sales channel data.', 'score': 0.9843902587890625, 'index': 0}, {'node.name': 'clients', 'node.description': 'Clients refers to the stores that Arca Mexico sells to, specifically retailers in the traditional channel. Clients refers to the stores that Arca Mexico sells to directly in their traditional channel.', 'score': 0.93804931640625, 'index': 1}, {'node.name': 'traditional channel', 'node.description': 'Traditional channel is the sales channel that deals with selling products to retailers (small stores). Traditional channel is the distribution channel where products are sold to retailers (small stores) who then sell to end consumers.', 'score': 0.912384033203125, 'index': 2}]\n",
      "Running Agentic Decision...\n",
      "-----------------------------\n",
      "Entity Sellin identified as synonym of Entity sellin\n",
      "-----------------------------\n",
      "Embedding property 'descriptionEmbedding' updated successfully for node 'sellin' of type 'Concept'.\n",
      "Added relationship: (company_info-chunk0002)-[:SOURCE]->(sellin)\n",
      "Similar Concepts Identified for concept Traditional Channel:\n",
      "[{'node.name': 'clients', 'node.description': 'Clients refers to the stores that Arca Mexico sells to, specifically retailers in the traditional channel. Clients refers to the stores that Arca Mexico sells to directly in their traditional channel.', 'score': 0.9479827880859375, 'index': 0}, {'node.name': 'traditional channel', 'node.description': 'Traditional channel is the sales channel that deals with selling products to retailers (small stores). Traditional channel is the distribution channel where products are sold to retailers (small stores) who then sell to end consumers.', 'score': 0.942840576171875, 'index': 1}, {'node.name': 'sellin', 'node.description': 'Sellin refers to the sales made by Arca Mexico to retailers in the traditional channel. This metric is used instead of sellout as it represents direct sales to retailers. Sellin refers to the sales information between the company (Arca Mexico) and its direct clients (retailers/small stores), representing the traditional sales channel data. Sellin refers to the sales made by Arca Mexico to retailers in the traditional channel. This is the primary sales measurement used by Arca Mexico as they cannot track the final sales to consumers (sellout) from these small stores.', 'score': 0.9396820068359375, 'index': 2}]\n",
      "Running Agentic Decision...\n",
      "-----------------------------\n",
      "Entity Traditional Channel identified as synonym of Entity traditional channel\n",
      "-----------------------------\n",
      "Embedding property 'descriptionEmbedding' updated successfully for node 'traditional channel' of type 'Concept'.\n",
      "Added relationship: (company_info-chunk0002)-[:SOURCE]->(traditional channel)\n",
      "Similar Concepts Identified for concept Client:\n",
      "[{'node.name': 'clients', 'node.description': 'Clients refers to the stores that Arca Mexico sells to, specifically retailers in the traditional channel. Clients refers to the stores that Arca Mexico sells to directly in their traditional channel.', 'score': 0.9710540771484375, 'index': 0}, {'node.name': 'sellin', 'node.description': 'Sellin refers to the sales made by Arca Mexico to retailers in the traditional channel. This metric is used instead of sellout as it represents direct sales to retailers. Sellin refers to the sales information between the company (Arca Mexico) and its direct clients (retailers/small stores), representing the traditional sales channel data. Sellin refers to the sales made by Arca Mexico to retailers in the traditional channel. This is the primary sales measurement used by Arca Mexico as they cannot track the final sales to consumers (sellout) from these small stores.', 'score': 0.9297027587890625, 'index': 1}, {'node.name': 'traditional channel', 'node.description': 'Traditional channel is the sales channel that deals with selling products to retailers (small stores). Traditional channel is the distribution channel where products are sold to retailers (small stores) who then sell to end consumers. Traditional Channel refers to the sales channel where Arca Mexico sells products to retailers (small stores) who then sell to final consumers.', 'score': 0.9274139404296875, 'index': 2}]\n",
      "Running Agentic Decision...\n",
      "-----------------------------\n",
      "Entity Client identified as synonym of Entity clients\n",
      "-----------------------------\n",
      "Embedding property 'descriptionEmbedding' updated successfully for node 'clients' of type 'Concept'.\n",
      "Added relationship: (company_info-chunk0002)-[:SOURCE]->(clients)\n",
      "Added relationship: (Arca Mexico)-[:IS_RELATED_TO]->(sellin)\n",
      "Added relationship: (Arca Mexico)-[:IS_RELATED_TO]->(traditional channel)\n",
      "Added relationship: (sellin)-[:IS_RELATED_TO]->(traditional channel)\n",
      "Added relationship: (sellin)-[:USES_RULE]->(Sales Channel Measurement Rule)\n",
      "Added relationship: (sellin)-[:USES_RULE]->(Price Metric Selection Rule)\n",
      "Added relationship: (traditional channel)-[:IS_RELATED_TO]->(clients)\n",
      "Embedding property 'descriptionEmbedding' added successfully to 'Concept' nodes.\n",
      "Embedding property 'textEmbedding' added successfully to 'Chunk' nodes.\n",
      "Successfully Added Document company_info to the Knowledge Base\n"
     ]
    }
   ],
   "source": [
    "documents = ['company_info']\n",
    "\n",
    "for document in documents:\n",
    "    add_document(document, node_schema, relationship_schema, index_name, kg)"
   ]
  }
 ],
 "metadata": {
  "kernelspec": {
   "display_name": "venv",
   "language": "python",
   "name": "python3"
  },
  "language_info": {
   "codemirror_mode": {
    "name": "ipython",
    "version": 3
   },
   "file_extension": ".py",
   "mimetype": "text/x-python",
   "name": "python",
   "nbconvert_exporter": "python",
   "pygments_lexer": "ipython3",
   "version": "3.11.8"
  }
 },
 "nbformat": 4,
 "nbformat_minor": 2
}
